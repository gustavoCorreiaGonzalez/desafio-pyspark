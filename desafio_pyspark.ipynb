{
 "cells": [
  {
   "cell_type": "markdown",
   "id": "d63f64db",
   "metadata": {},
   "source": [
    "# Desafio Everis Spark"
   ]
  },
  {
   "cell_type": "markdown",
   "id": "680a0761",
   "metadata": {},
   "source": [
    "### Imports"
   ]
  },
  {
   "cell_type": "code",
   "execution_count": 194,
   "id": "5c62b466",
   "metadata": {},
   "outputs": [],
   "source": [
    "from pyspark.sql import SparkSession\n",
    "from pyspark.sql.types import StructType, StructField, IntegerType, StringType, DateType\n",
    "from pyspark.sql.window import Window\n",
    "from pyspark.sql.functions import row_number, col, current_date, year, lpad, udf"
   ]
  },
  {
   "cell_type": "markdown",
   "id": "4eb84e1d",
   "metadata": {},
   "source": [
    "### Configurando Sessão"
   ]
  },
  {
   "cell_type": "code",
   "execution_count": 195,
   "id": "8de1a928",
   "metadata": {},
   "outputs": [],
   "source": [
    "spark = SparkSession.builder \\\n",
    "   .master(\"local\") \\\n",
    "   .appName(\"Desafio PySpark Everis\") \\\n",
    "   .config(\"spark.executor.memory\", \"1gb\") \\\n",
    "   .getOrCreate()"
   ]
  },
  {
   "cell_type": "markdown",
   "id": "9c7cd90a",
   "metadata": {},
   "source": [
    "### Criando o Schema do database"
   ]
  },
  {
   "cell_type": "code",
   "execution_count": 196,
   "id": "8b8a53ed",
   "metadata": {},
   "outputs": [],
   "source": [
    "struct = StructType([ \\\n",
    "    StructField(\"codigo_cliente\", IntegerType(), True), \\\n",
    "    StructField(\"nome\", StringType(), True), \\\n",
    "    StructField(\"municipio\", StringType(), True), \\\n",
    "    StructField(\"estado\", StringType(), True), \\\n",
    "    StructField(\"data_nascimento\", DateType(), True)])"
   ]
  },
  {
   "cell_type": "markdown",
   "id": "7b559c2c",
   "metadata": {},
   "source": [
    "### Carregando os dados do database"
   ]
  },
  {
   "cell_type": "code",
   "execution_count": 197,
   "id": "7621ef5a",
   "metadata": {},
   "outputs": [
    {
     "name": "stdout",
     "output_type": "stream",
     "text": [
      "+--------------+--------+-----------+-----------------+---------------+\n",
      "|codigo_cliente|    nome|  municipio|           estado|data_nascimento|\n",
      "+--------------+--------+-----------+-----------------+---------------+\n",
      "|             1|    José|   Anápolis|        São Paulo|     1900-09-01|\n",
      "|             2|    Igor|   Anápolis|        São Paulo|     1977-09-11|\n",
      "|             3|Leonardo|   Anápolis|        São Paulo|     2000-12-21|\n",
      "|             4|Humberto|Pato Branco|Rio Grande do Sul|     1964-11-13|\n",
      "|             5|  Isaias|Pato Branco|Rio Grande do Sul|     2002-07-07|\n",
      "|             6|   Lucas|       Taua|            Ceará|     1984-09-05|\n",
      "+--------------+--------+-----------+-----------------+---------------+\n",
      "\n"
     ]
    }
   ],
   "source": [
    "df = spark.read.csv(\"base.csv\", schema=struct, sep=\";\", dateFormat=\"dd-MM-yyyy\")\n",
    "df.show()"
   ]
  },
  {
   "cell_type": "markdown",
   "id": "c2769a03",
   "metadata": {},
   "source": [
    "## Casos para resolução"
   ]
  },
  {
   "cell_type": "markdown",
   "id": "a7e5ffe5",
   "metadata": {},
   "source": [
    "### Caso 1 – Adicionar 1 coluna com um contador sequencial por Município e ordenar por Estado."
   ]
  },
  {
   "cell_type": "code",
   "execution_count": 198,
   "id": "779caf1f",
   "metadata": {},
   "outputs": [],
   "source": [
    "windowSpec = Window.partitionBy(\"municipio\").orderBy(\"estado\")"
   ]
  },
  {
   "cell_type": "code",
   "execution_count": 199,
   "id": "44cb962f",
   "metadata": {},
   "outputs": [
    {
     "name": "stdout",
     "output_type": "stream",
     "text": [
      "+--------------+--------+-----------+-----------------+---------------+------------------+\n",
      "|codigo_cliente|    nome|  municipio|           estado|data_nascimento|contador_municipio|\n",
      "+--------------+--------+-----------+-----------------+---------------+------------------+\n",
      "|             6|   Lucas|       Taua|            Ceará|     1984-09-05|                 1|\n",
      "|             5|  Isaias|Pato Branco|Rio Grande do Sul|     2002-07-07|                 2|\n",
      "|             4|Humberto|Pato Branco|Rio Grande do Sul|     1964-11-13|                 1|\n",
      "|             1|    José|   Anápolis|        São Paulo|     1900-09-01|                 1|\n",
      "|             2|    Igor|   Anápolis|        São Paulo|     1977-09-11|                 2|\n",
      "|             3|Leonardo|   Anápolis|        São Paulo|     2000-12-21|                 3|\n",
      "+--------------+--------+-----------+-----------------+---------------+------------------+\n",
      "\n"
     ]
    }
   ],
   "source": [
    "df1 = df.withColumn(\"contador_municipio\",row_number().over(windowSpec)).orderBy(\"estado\")\n",
    "df1.show()"
   ]
  },
  {
   "cell_type": "markdown",
   "id": "6a6a1483",
   "metadata": {},
   "source": [
    "### Caso 2 - Adicionar 1 coluna com a Idade em anos e na coluna cod_cliente formatar o campo com 3 posições a esquerda completando com “0”."
   ]
  },
  {
   "cell_type": "code",
   "execution_count": 200,
   "id": "bee6b993",
   "metadata": {},
   "outputs": [
    {
     "name": "stdout",
     "output_type": "stream",
     "text": [
      "+--------------+--------+-----------+-----------------+---------------+------------------+-----+\n",
      "|codigo_cliente|    nome|  municipio|           estado|data_nascimento|contador_municipio|idade|\n",
      "+--------------+--------+-----------+-----------------+---------------+------------------+-----+\n",
      "|             6|   Lucas|       Taua|            Ceará|     1984-09-05|                 1|   37|\n",
      "|             4|Humberto|Pato Branco|Rio Grande do Sul|     1964-11-13|                 1|   57|\n",
      "|             5|  Isaias|Pato Branco|Rio Grande do Sul|     2002-07-07|                 2|   19|\n",
      "|             1|    José|   Anápolis|        São Paulo|     1900-09-01|                 1|  121|\n",
      "|             3|Leonardo|   Anápolis|        São Paulo|     2000-12-21|                 3|   21|\n",
      "|             2|    Igor|   Anápolis|        São Paulo|     1977-09-11|                 2|   44|\n",
      "+--------------+--------+-----------+-----------------+---------------+------------------+-----+\n",
      "\n"
     ]
    }
   ],
   "source": [
    "df2 = df1.withColumn(\"idade\", (year(current_date()) - year(\"data_nascimento\"))) \\\n",
    "         .withColumn(\"codigo_cliente\", lpad(col(\"codigo_cliente\"), 3, '0').alias('s').cast('int'))\n",
    "df2.show()"
   ]
  },
  {
   "cell_type": "code",
   "execution_count": 201,
   "id": "cf33147c",
   "metadata": {},
   "outputs": [
    {
     "name": "stdout",
     "output_type": "stream",
     "text": [
      "root\n",
      " |-- codigo_cliente: integer (nullable = true)\n",
      " |-- nome: string (nullable = true)\n",
      " |-- municipio: string (nullable = true)\n",
      " |-- estado: string (nullable = true)\n",
      " |-- data_nascimento: date (nullable = true)\n",
      " |-- contador_municipio: integer (nullable = true)\n",
      " |-- idade: integer (nullable = true)\n",
      "\n"
     ]
    }
   ],
   "source": [
    "df2.printSchema()"
   ]
  },
  {
   "cell_type": "markdown",
   "id": "dda4c416",
   "metadata": {},
   "source": [
    "### Caso 3 - Adicionar 1 coluna com a data de atualização, preenchendo com a data do dia da execução e retirar os caracteres especiais do campo Estado."
   ]
  },
  {
   "cell_type": "code",
   "execution_count": 220,
   "id": "20e5a8c8",
   "metadata": {},
   "outputs": [
    {
     "name": "stdout",
     "output_type": "stream",
     "text": [
      "Collecting unidecode\n",
      "  Downloading Unidecode-1.2.0-py2.py3-none-any.whl (241 kB)\n",
      "\u001b[K     |████████████████████████████████| 241 kB 2.0 MB/s eta 0:00:01\n",
      "\u001b[?25hInstalling collected packages: unidecode\n",
      "Successfully installed unidecode-1.2.0\n"
     ]
    }
   ],
   "source": [
    "!pip install unidecode"
   ]
  },
  {
   "cell_type": "code",
   "execution_count": 221,
   "id": "a876666d",
   "metadata": {},
   "outputs": [],
   "source": [
    "from unidecode import unidecode"
   ]
  },
  {
   "cell_type": "code",
   "execution_count": 222,
   "id": "3f9e6a58",
   "metadata": {},
   "outputs": [],
   "source": [
    "my_udf = udf(lambda x: unidecode(x), StringType())"
   ]
  },
  {
   "cell_type": "code",
   "execution_count": 223,
   "id": "6412e4a7",
   "metadata": {},
   "outputs": [
    {
     "name": "stdout",
     "output_type": "stream",
     "text": [
      "+--------------+--------+-----------+-----------------+---------------+------------------+-----+----------------+\n",
      "|codigo_cliente|    nome|  municipio|           estado|data_nascimento|contador_municipio|idade|data_atualizacao|\n",
      "+--------------+--------+-----------+-----------------+---------------+------------------+-----+----------------+\n",
      "|             6|   Lucas|       Taua|            Ceara|     1984-09-05|                 1|   37|      2021-04-27|\n",
      "|             4|Humberto|Pato Branco|Rio Grande do Sul|     1964-11-13|                 1|   57|      2021-04-27|\n",
      "|             5|  Isaias|Pato Branco|Rio Grande do Sul|     2002-07-07|                 2|   19|      2021-04-27|\n",
      "|             1|    José|   Anápolis|        Sao Paulo|     1900-09-01|                 1|  121|      2021-04-27|\n",
      "|             2|    Igor|   Anápolis|        Sao Paulo|     1977-09-11|                 2|   44|      2021-04-27|\n",
      "|             3|Leonardo|   Anápolis|        Sao Paulo|     2000-12-21|                 3|   21|      2021-04-27|\n",
      "+--------------+--------+-----------+-----------------+---------------+------------------+-----+----------------+\n",
      "\n"
     ]
    }
   ],
   "source": [
    "df3 = df2.withColumn(\"data_atualizacao\", current_date()) \\\n",
    "         .withColumn(\"estado\", my_udf(\"estado\"))\n",
    "df3.show()"
   ]
  },
  {
   "cell_type": "code",
   "execution_count": null,
   "id": "af8f0e7d",
   "metadata": {},
   "outputs": [],
   "source": []
  }
 ],
 "metadata": {
  "kernelspec": {
   "display_name": "Python 3",
   "language": "python",
   "name": "python3"
  },
  "language_info": {
   "codemirror_mode": {
    "name": "ipython",
    "version": 3
   },
   "file_extension": ".py",
   "mimetype": "text/x-python",
   "name": "python",
   "nbconvert_exporter": "python",
   "pygments_lexer": "ipython3",
   "version": "3.8.8"
  }
 },
 "nbformat": 4,
 "nbformat_minor": 5
}
